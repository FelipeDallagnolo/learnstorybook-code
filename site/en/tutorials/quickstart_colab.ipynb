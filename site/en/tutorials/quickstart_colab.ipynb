{
  "cells": [
    {
      "cell_type": "code",
      "source": [],
      "metadata": {
        "id": "kzL-G_7SP0Ar"
      },
      "execution_count": null,
      "outputs": []
    }
  ],
  "metadata": {
    "colab": {
      "name": "quickstart_colab.ipynb",
      "toc_visible": true,
      "provenance": []
    },
    "kernelspec": {
      "display_name": "Python 3",
      "name": "python3"
    }
  },
  "nbformat": 4,
  "nbformat_minor": 0
}